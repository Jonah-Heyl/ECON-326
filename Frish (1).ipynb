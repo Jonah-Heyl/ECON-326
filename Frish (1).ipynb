{
  "nbformat": 4,
  "nbformat_minor": 0,
  "metadata": {
    "colab": {
      "name": "Frish.ipynb",
      "provenance": [],
      "collapsed_sections": []
    },
    "kernelspec": {
      "name": "python3",
      "display_name": "Python 3"
    },
    "language_info": {
      "name": "python"
    }
  },
  "cells": [
    {
      "cell_type": "code",
      "source": [
        "import numpy as np\n",
        "from matplotlib import pyplot as plt\n",
        "from sklearn.linear_model import LinearRegression"
      ],
      "metadata": {
        "id": "1Y6VQqcKzqYk"
      },
      "execution_count": 2,
      "outputs": []
    },
    {
      "cell_type": "markdown",
      "source": [
        "Below is the data that the SEC has gathered, the first vector is the stock price of graves incoported, the 2'nd vector is the profits of graves i.n.c each day and the last vector is the cash on hand in millions of dollars of I.O.N.A. holdings."
      ],
      "metadata": {
        "id": "2QLy4l6J0ivJ"
      }
    },
    {
      "cell_type": "code",
      "source": [
        "profits=np.array([54.46740152, 54.1510822 , 54.80388508, 59.83323573, 53.73423707,\n",
        "       50.12406982, 59.21903338, 58.7327607 , 53.51746822, 56.30133113,\n",
        "       53.57826959, 52.12819938, 52.23319223, 54.19563792, 50.72910221,\n",
        "       56.5083907 , 57.55686149, 59.32101226, 53.7640416 , 52.96927283,\n",
        "       53.71944312, 58.27699359, 59.01139535, 54.27303785, 50.02189431,\n",
        "       50.41965245, 51.41787383, 55.98237185, 51.06460522, 52.97158986])"
      ],
      "metadata": {
        "id": "TV7xuNAe0WOt"
      },
      "execution_count": 3,
      "outputs": []
    },
    {
      "cell_type": "code",
      "source": [
        "stock_price=np.array([95.14888652, 68.29787971,  7.61625482, 41.00779428,  4.19013988,\n",
        "       17.41868316, 56.54020056, 17.28911706, 56.66104779, 51.40042529,\n",
        "       86.88708875, 72.03472479, 90.35913471, 27.76149982, 25.66654322,\n",
        "       69.97032629, 90.15688962, 98.36923251, 64.09128124, 33.00073885,\n",
        "       60.66752162, 82.21597886, 62.79650655, 11.79230575, 28.58776734,\n",
        "       98.67472153, 43.18008485, 57.42344138, 52.72420767, 19.76530494])\n"
      ],
      "metadata": {
        "id": "PgMDW0Pz2H60"
      },
      "execution_count": 4,
      "outputs": []
    },
    {
      "cell_type": "code",
      "source": [
        "IC=np.array([-15.14888652,  11.70212029,  72.38374518,  38.99220572,\n",
        "        75.80986012,  63.        ,  23.45979944,  62.71088294,\n",
        "        23.33895221,  28.59957471, -10.88708875,   7.96527521,\n",
        "       -10.35913471,  52.23850018,  54.33345678,  10.02967371,\n",
        "       -10.15688962, -20.36923251,  15.90871876,  46.99926115,\n",
        "        19.33247838,  -2.21597886,  17.20349345,  68.20769425,\n",
        "        51.41223266, -18.67472153,  36.81991515,  22.57655862,\n",
        "        27.27579233,  60.23469506])"
      ],
      "metadata": {
        "id": "3njeKxrM2a4i"
      },
      "execution_count": 6,
      "outputs": []
    },
    {
      "cell_type": "code",
      "source": [
        "plt.scatter(stock_price,profits)"
      ],
      "metadata": {
        "colab": {
          "base_uri": "https://localhost:8080/",
          "height": 283
        },
        "id": "CyMol-Yl0-0F",
        "outputId": "d8bc290d-edd1-44b0-8ea9-2e6ab825a2b4"
      },
      "execution_count": 7,
      "outputs": [
        {
          "output_type": "execute_result",
          "data": {
            "text/plain": [
              "<matplotlib.collections.PathCollection at 0x7f30fd154d10>"
            ]
          },
          "metadata": {},
          "execution_count": 7
        },
        {
          "output_type": "display_data",
          "data": {
            "text/plain": [
              "<Figure size 432x288 with 1 Axes>"
            ],
            "image/png": "[encoded data removed]"
          },
          "metadata": {
            "needs_background": "light"
          }
        }
      ]
    },
    {
      "cell_type": "code",
      "source": [
        "model = LinearRegression().fit(stock_price.reshape((-1, 1)),profits) "
      ],
      "metadata": {
        "id": "ZnCrcWpM3XgZ"
      },
      "execution_count": 8,
      "outputs": []
    },
    {
      "cell_type": "code",
      "source": [
        "r_sq = model.score(stock_price.reshape((-1, 1)),profits) #gives the re-sqraued value here r-squared indicates a better fit\n",
        "print('coefficient of determination:', r_sq)"
      ],
      "metadata": {
        "id": "FEUuw2lu4oxp",
        "colab": {
          "base_uri": "https://localhost:8080/"
        },
        "outputId": "10063488-1f60-4761-e6f5-b36a9e972ab4"
      },
      "execution_count": 9,
      "outputs": [
        {
          "output_type": "stream",
          "name": "stdout",
          "text": [
            "coefficient of determination: 0.0363397342064854\n"
          ]
        }
      ]
    },
    {
      "cell_type": "code",
      "source": [
        "model_with_holding_company = LinearRegression().fit(profits.reshape((-1, 1)),IC ) #we have defined a linear reggression model"
      ],
      "metadata": {
        "id": "m49XCkK84smN"
      },
      "execution_count": 10,
      "outputs": []
    },
    {
      "cell_type": "code",
      "source": [
        "pred_prof = model_with_holding_company.predict(IC.reshape((-1, 1)))"
      ],
      "metadata": {
        "id": "c1gQ30tsoxez"
      },
      "execution_count": 11,
      "outputs": []
    },
    {
      "cell_type": "code",
      "source": [
        "model2=LinearRegression().fit(stock_price.reshape((-1, 1)),pred_prof)\n"
      ],
      "metadata": {
        "id": "XfaWOtSmpR8L"
      },
      "execution_count": 12,
      "outputs": []
    },
    {
      "cell_type": "code",
      "source": [
        "r_sq = model2.score(stock_price.reshape((-1, 1)),pred_prof)\n",
        "print('coefficient of determination:', r_sq)\n",
        "pred_stock=model2.predict(pred_prof.reshape((-1, 1)))#gives a prediction of the stock price"
      ],
      "metadata": {
        "colab": {
          "base_uri": "https://localhost:8080/"
        },
        "id": "0HmPi2SApujq",
        "outputId": "19040d03-0a20-48d7-fc28-d5ed2a3bdd53"
      },
      "execution_count": 13,
      "outputs": [
        {
          "output_type": "stream",
          "name": "stdout",
          "text": [
            "coefficient of determination: 0.9993250125986998\n"
          ]
        }
      ]
    },
    {
      "cell_type": "code",
      "source": [
        "plt.plot(pred_stock,stock_price,'.') \n",
        "plt.xlabel('Predicted Stock Price')\n",
        "plt.ylabel('Actual Stock Price')\n"
      ],
      "metadata": {
        "colab": {
          "base_uri": "https://localhost:8080/",
          "height": 297
        },
        "id": "ZlMfAaWjK-ai",
        "outputId": "88599264-1444-411f-d416-c1d5a21ef982"
      },
      "execution_count": 14,
      "outputs": [
        {
          "output_type": "execute_result",
          "data": {
            "text/plain": [
              "Text(0, 0.5, 'Actual Stock Price')"
            ]
          },
          "metadata": {},
          "execution_count": 14
        },
        {
          "output_type": "display_data",
          "data": {
            "text/plain": [
              "<Figure size 432x288 with 1 Axes>"
            ],
            "image/png": "[encoded data removed]"
          },
          "metadata": {
            "needs_background": "light"
          }
        }
      ]
    },
    {
      "cell_type": "markdown",
      "source": [
        "This r-sqaured value indicates an extremely good fit, we can almost completely predict the stock price once we include the I.O.N.A. holdins cash holdings."
      ],
      "metadata": {
        "id": "6Yr9Eue9p2Sx"
      }
    }
  ]
}